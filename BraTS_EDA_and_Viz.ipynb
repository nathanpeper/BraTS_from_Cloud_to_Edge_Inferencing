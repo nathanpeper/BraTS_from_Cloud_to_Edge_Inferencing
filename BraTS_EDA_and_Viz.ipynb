{
 "cells": [
  {
   "cell_type": "markdown",
   "id": "31aa8446-4427-484c-a842-75cb0d34e1d4",
   "metadata": {},
   "source": [
    "# Train a 3D U-Net for Brain Tumor Segmentation on Intel Xeons in AWS\n",
    "\n",
    "TensorFlow 2.9 code to train a 3D U-Net on the brain tumor segmentation ([BraTS](https://www.med.upenn.edu/sbia/brats2017.html)) subset of the [Medical Segmentation Decathlon dataset](http://medicaldecathlon.com/) dataset. \n",
    "\n",
    "This model can achieve a [Dice coefficient](https://www.ncbi.nlm.nih.gov/pmc/articles/PMC1415224/) of > 0.80 on the whole tumor using just the [FLAIR](https://en.wikipedia.org/wiki/Fluid-attenuated_inversion_recovery) channel."
   ]
  },
  {
   "cell_type": "code",
   "execution_count": null,
   "id": "31f57cf5-a075-4157-a8dd-24613f26e679",
   "metadata": {},
   "outputs": [],
   "source": []
  },
  {
   "cell_type": "code",
   "execution_count": null,
   "id": "eb0d545b-4a22-47cf-8c20-45748e24e30d",
   "metadata": {},
   "outputs": [],
   "source": [
    "import tensorflow as tf\n",
    "from tensorflow import keras as K\n",
    "\n",
    "import nibabel as nib\n",
    "import numpy as np\n",
    "import os\n",
    "import datetime\n",
    "import json\n",
    "    \n",
    "import matplotlib.pyplot as plt\n",
    "\n",
    "#import warnings\n",
    "#warnings.filterwarnings(\"ignore\")\n",
    "\n",
    "%matplotlib inline"
   ]
  },
  {
   "cell_type": "markdown",
   "id": "b7ec3f3a-fedf-4384-89a6-b0e140d539ed",
   "metadata": {},
   "source": [
    "## Determine if we are using Intel-optimized TensorFlow (DNNL)"
   ]
  },
  {
   "cell_type": "code",
   "execution_count": null,
   "id": "f8265a4f-13aa-4fc1-9ce9-b5278853df95",
   "metadata": {},
   "outputs": [],
   "source": [
    "def get_mkl_enabled_flag():\n",
    "\n",
    "    mkl_enabled = False\n",
    "    major_version = int(tf.__version__.split(\".\")[0])\n",
    "    minor_version = int(tf.__version__.split(\".\")[1])\n",
    "    if major_version >= 2:\n",
    "        if minor_version < 5:\n",
    "            from tensorflow.python import _pywrap_util_port\n",
    "        elif minor_version >= 9:\n",
    "\n",
    "            from tensorflow.python.util import _pywrap_util_port\n",
    "            onednn_enabled = int(os.environ.get('TF_ENABLE_ONEDNN_OPTS', '1'))\n",
    "\n",
    "        else:\n",
    "            from tensorflow.python.util import _pywrap_util_port\n",
    "            onednn_enabled = int(os.environ.get('TF_ENABLE_ONEDNN_OPTS', '0'))\n",
    "        mkl_enabled = _pywrap_util_port.IsMklEnabled() or (onednn_enabled == 1)\n",
    "    else:\n",
    "        mkl_enabled = tf.pywrap_tensorflow.IsMklEnabled()\n",
    "    return mkl_enabled\n",
    "\n",
    "print (\"We are using Tensorflow version\", tf.__version__)\n",
    "print(\"MKL enabled :\", get_mkl_enabled_flag())"
   ]
  },
  {
   "cell_type": "code",
   "execution_count": null,
   "id": "1dc32845-b7a2-44e0-bd6c-b885956aaffb",
   "metadata": {},
   "outputs": [],
   "source": [
    "!pwd"
   ]
  },
  {
   "cell_type": "code",
   "execution_count": null,
   "id": "32ba08f0-af3f-4c51-82e6-af845c32c85a",
   "metadata": {},
   "outputs": [],
   "source": [
    "#!cd /home/ubuntu/unet/data/ && tar -xf Task01_BrainTumour.tar"
   ]
  },
  {
   "cell_type": "markdown",
   "id": "ba310f54-1690-43f6-b71a-b64ac4d09c76",
   "metadata": {},
   "source": [
    "As we can see in the file directory that we just unpacked, there are multiple folders of images and a file named \"dataset.json\" that we'll take a look at first"
   ]
  },
  {
   "cell_type": "code",
   "execution_count": null,
   "id": "17255f29-dada-4e86-9ab0-294722d8d875",
   "metadata": {},
   "outputs": [],
   "source": [
    "json_filename = \"/home/ubuntu/unet/data/Task01_BrainTumour/dataset.json\"\n",
    "\n",
    "with open(json_filename, 'r') as f:\n",
    "    data = json.load(f)"
   ]
  },
  {
   "cell_type": "code",
   "execution_count": null,
   "id": "7de0d0cb-42f0-40f7-8600-69fdad231686",
   "metadata": {},
   "outputs": [],
   "source": [
    "#data"
   ]
  },
  {
   "cell_type": "code",
   "execution_count": null,
   "id": "5d0050fd-a6c8-4aae-8f57-321e45c9dff7",
   "metadata": {},
   "outputs": [],
   "source": [
    "data_path = \"/home/ubuntu/unet/data/Task01_BrainTumour/\""
   ]
  },
  {
   "cell_type": "code",
   "execution_count": null,
   "id": "7dbba8ed-553e-469b-83b2-f0fdd799545e",
   "metadata": {},
   "outputs": [],
   "source": [
    "with open(json_filename, \"r\") as datafile:\n",
    "    experiment_data = json.load(datafile)\n",
    "\n",
    "output_channels = experiment_data[\"labels\"]\n",
    "input_channels = experiment_data[\"modality\"]\n",
    "description = experiment_data[\"description\"]\n",
    "name = experiment_data[\"name\"]\n",
    "release = experiment_data[\"release\"]\n",
    "license = experiment_data[\"licence\"]\n",
    "reference = experiment_data[\"reference\"]\n",
    "tensorImageSize = experiment_data[\"tensorImageSize\"]\n",
    "numFiles = experiment_data[\"numTraining\"]\n",
    "\n",
    "\"\"\"\n",
    "Create a dictionary of tuples with image filename and label filename\n",
    "\"\"\"\n",
    "\n",
    "filenames = {}\n",
    "for idx in range(numFiles):\n",
    "    filenames[idx] = [os.path.join(data_path,\n",
    "                                      experiment_data[\"training\"][idx][\"image\"]),\n",
    "                            os.path.join(data_path,\n",
    "                                      experiment_data[\"training\"][idx][\"label\"])]\n",
    "\n",
    "\n",
    "\n",
    "\"\"\"\n",
    "Print the dataset information\n",
    "\"\"\"\n",
    "\n",
    "print(\"=\"*30)\n",
    "print(\"Dataset name:        \", name)\n",
    "print(\"Dataset description: \", description)\n",
    "print(\"Tensor image size:   \", tensorImageSize)\n",
    "print(\"Dataset release:     \", release)\n",
    "print(\"Dataset reference:   \", reference)\n",
    "print(\"Input channels:      \", input_channels)\n",
    "print(\"Output labels:       \", output_channels)\n",
    "print(\"Dataset license:     \", license)\n",
    "print(\"=\"*30)"
   ]
  },
  {
   "cell_type": "markdown",
   "id": "65890fc1-0fb2-46e0-8d32-23b0e328f199",
   "metadata": {},
   "source": [
    "Let's use one file to dive into...."
   ]
  },
  {
   "cell_type": "code",
   "execution_count": null,
   "id": "771e5bac-5efc-44f4-b9e7-bef46fdb65b1",
   "metadata": {},
   "outputs": [],
   "source": [
    "FILE_PATH=\"/home/ubuntu/unet/data/Task01_BrainTumour/imagesTr/BRATS_001.nii.gz\""
   ]
  },
  {
   "cell_type": "code",
   "execution_count": null,
   "id": "fcad69d9-6663-4c29-87f6-2691d783f9ed",
   "metadata": {},
   "outputs": [],
   "source": [
    "def read_nifti_file(filepath):\n",
    "    \"\"\"Read and load header and volume\"\"\"\n",
    "    # Read file\n",
    "    scan = nib.load(filepath)\n",
    "    # Get raw data\n",
    "    header = scan.header\n",
    "    scan = scan.get_fdata()\n",
    "    return header, scan"
   ]
  },
  {
   "cell_type": "markdown",
   "id": "4dcbb6da-1e12-4bd8-bd5b-a4aeb82df7f2",
   "metadata": {},
   "source": [
    "*** Write something short and sweet about the NIFTI File format and what to look for in the header for this example, link to more detailed information ***"
   ]
  },
  {
   "cell_type": "code",
   "execution_count": null,
   "id": "c1b39a37-07c8-48bc-a675-a9cf5408c558",
   "metadata": {},
   "outputs": [],
   "source": [
    "header, scan_data = read_nifti_file(FILE_PATH)\n",
    "print(header)"
   ]
  },
  {
   "cell_type": "code",
   "execution_count": null,
   "id": "5762a99b-f21d-4be7-89d1-0417878311eb",
   "metadata": {},
   "outputs": [],
   "source": [
    "scan_data.shape"
   ]
  },
  {
   "cell_type": "code",
   "execution_count": null,
   "id": "bccfe884-414b-4cd2-bb40-9ebed62f586f",
   "metadata": {},
   "outputs": [],
   "source": [
    "print(np.min(scan_data))\n",
    "print(np.max(scan_data))"
   ]
  },
  {
   "cell_type": "markdown",
   "id": "90aca1d6-c5b1-44d5-b69a-7db80d5d9d8b",
   "metadata": {},
   "source": [
    "As we can see here, the values range from 0 to 2239, versus the expected ___ to ____."
   ]
  },
  {
   "cell_type": "markdown",
   "id": "6342bcb1-58b9-4721-aaa2-825c2aaa7b8d",
   "metadata": {},
   "source": [
    "Let's check the distribution of these values to see what the range and window is for this scan dataset. "
   ]
  },
  {
   "cell_type": "code",
   "execution_count": null,
   "id": "53c91068-c21f-4dfd-8b6f-387c714fb8cb",
   "metadata": {},
   "outputs": [],
   "source": [
    "values = scan_data.flatten()\n",
    "print(len(values))"
   ]
  },
  {
   "cell_type": "code",
   "execution_count": null,
   "id": "2e2b52e5-2bf2-4064-8f62-d817606f9659",
   "metadata": {},
   "outputs": [],
   "source": [
    "fig = plt.figure(figsize =(10, 7))\n",
    "plt.hist(values, bins=50)\n",
    "plt.title(\"Histogram Cell Intensity Values\")\n",
    "plt.show()"
   ]
  },
  {
   "cell_type": "markdown",
   "id": "2a1a71dc-c29d-4929-91b7-148b226088bd",
   "metadata": {},
   "source": [
    "The large number of 0 values in the data set is expected since it is the parts of the scan that are not the brain. Let's remove the 0 values from the histogram to get a better look at our distribution. "
   ]
  },
  {
   "cell_type": "code",
   "execution_count": null,
   "id": "629c37e1-f195-4ac7-90ea-63cc2f04b26c",
   "metadata": {},
   "outputs": [],
   "source": [
    "newvalues = [x for x in values if x != 0]\n",
    "print(len(newvalues))"
   ]
  },
  {
   "cell_type": "code",
   "execution_count": null,
   "id": "358bf2af-d169-42fe-891e-f5e0237f0ca1",
   "metadata": {},
   "outputs": [],
   "source": [
    "fig = plt.figure(figsize =(10, 7))\n",
    "plt.hist(newvalues, bins=50)\n",
    "plt.title(\"Histogram Cell Intensity Values\")\n",
    "plt.show()\n"
   ]
  },
  {
   "cell_type": "code",
   "execution_count": null,
   "id": "05161b2e-68bd-4cba-ba3e-2a4c1b0065a6",
   "metadata": {},
   "outputs": [],
   "source": [
    "#Input channels:       {'0': 'FLAIR', '1': 'T1w', '2': 't1gd', '3': 'T2w'}\n",
    "CHANNEL = 0\n",
    "values_0 = scan_data[:,:,:,CHANNEL].flatten()\n",
    "newvalues_0 = [x for x in values_0 if x != 0]\n",
    "\n",
    "fig = plt.figure(figsize =(10, 7))\n",
    "plt.hist(newvalues_0, bins=50)\n",
    "plt.title(\"Histogram Cell FLAIR Intensity Values\")\n",
    "plt.show()\n"
   ]
  },
  {
   "cell_type": "code",
   "execution_count": null,
   "id": "5311fc8e-9439-49ca-8bde-d8a9435dd716",
   "metadata": {},
   "outputs": [],
   "source": [
    "#Input channels:       {'0': 'FLAIR', '1': 'T1w', '2': 't1gd', '3': 'T2w'}\n",
    "CHANNEL = 1\n",
    "values_0 = scan_data[:,:,:,CHANNEL].flatten()\n",
    "newvalues_0 = [x for x in values_0 if x != 0]\n",
    "\n",
    "fig = plt.figure(figsize =(10, 7))\n",
    "plt.hist(newvalues_0, bins=50)\n",
    "plt.title(\"Histogram Cell T1w Intensity Values\")\n",
    "plt.show()\n"
   ]
  },
  {
   "cell_type": "code",
   "execution_count": null,
   "id": "acf7af24-57e1-4aa8-b2df-9a0eef2c8d38",
   "metadata": {},
   "outputs": [],
   "source": [
    "#Input channels:       {'0': 'FLAIR', '1': 'T1w', '2': 't1gd', '3': 'T2w'}\n",
    "CHANNEL = 2\n",
    "values_0 = scan_data[:,:,:,CHANNEL].flatten()\n",
    "newvalues_0 = [x for x in values_0 if x != 0]\n",
    "\n",
    "fig = plt.figure(figsize =(10, 7))\n",
    "plt.hist(newvalues_0, bins=50)\n",
    "plt.title(\"Histogram Cell t1gd Intensity Values\")\n",
    "plt.show()\n"
   ]
  },
  {
   "cell_type": "code",
   "execution_count": null,
   "id": "914fcad5-b292-4577-8edd-8e2dde1cfb11",
   "metadata": {},
   "outputs": [],
   "source": [
    "#Input channels:       {'0': 'FLAIR', '1': 'T1w', '2': 't1gd', '3': 'T2w'}\n",
    "CHANNEL = 3\n",
    "values_0 = scan_data[:,:,:,CHANNEL].flatten()\n",
    "newvalues_0 = [x for x in values_0 if x != 0]\n",
    "\n",
    "fig = plt.figure(figsize =(10, 7))\n",
    "plt.hist(newvalues_0, bins=50)\n",
    "plt.title(\"Histogram Cell T2w Intensity Values\")\n",
    "plt.show()\n"
   ]
  },
  {
   "cell_type": "markdown",
   "id": "6746a4b8-befe-45c8-80cf-ffa9359d456e",
   "metadata": {},
   "source": [
    "The distribution of cell intensity values gives us an idea of what an appropriate range and window could be if we want to narrow our focus within the scan. "
   ]
  },
  {
   "cell_type": "markdown",
   "id": "c3fb16b5-5b9d-496a-868d-d46cca8797dd",
   "metadata": {},
   "source": [
    "Now lets take a quick look at the datasets labels. "
   ]
  },
  {
   "cell_type": "code",
   "execution_count": null,
   "id": "9bd36f0c-1128-4839-ba3c-332c8236ee0a",
   "metadata": {},
   "outputs": [],
   "source": [
    "LABEL_FILE_PATH=\"/home/ubuntu/unet/data/Task01_BrainTumour/labelsTr/BRATS_001.nii.gz\""
   ]
  },
  {
   "cell_type": "code",
   "execution_count": null,
   "id": "c7d6ca95-5422-4f4b-910f-630eea5d7394",
   "metadata": {},
   "outputs": [],
   "source": [
    "label_header, label_scan_data = read_nifti_file(LABEL_FILE_PATH)\n",
    "print(label_header)"
   ]
  },
  {
   "cell_type": "code",
   "execution_count": null,
   "id": "0b21e906-0f3a-4dfb-881d-bca95a68125d",
   "metadata": {},
   "outputs": [],
   "source": [
    "test = nib.load(LABEL_FILE_PATH)\n",
    "test.affine"
   ]
  },
  {
   "cell_type": "code",
   "execution_count": null,
   "id": "34424828-8563-4adc-91d5-79858608fd44",
   "metadata": {},
   "outputs": [],
   "source": [
    "label_scan_data.shape"
   ]
  },
  {
   "cell_type": "code",
   "execution_count": null,
   "id": "f6574ad3-8db4-404f-a001-e0e3debeebd7",
   "metadata": {},
   "outputs": [],
   "source": [
    "print(np.min(label_scan_data))\n",
    "print(np.max(label_scan_data))"
   ]
  },
  {
   "cell_type": "code",
   "execution_count": null,
   "id": "0a0e48de-664b-4d09-91e2-409f8e14733f",
   "metadata": {},
   "outputs": [],
   "source": [
    "values = label_scan_data.flatten()\n",
    "print(len(values))"
   ]
  },
  {
   "cell_type": "code",
   "execution_count": null,
   "id": "8e9095b2-6193-438c-8758-a3b1d55cceba",
   "metadata": {},
   "outputs": [],
   "source": [
    "fig = plt.figure(figsize =(10, 7))\n",
    "plt.hist(values, bins=50)\n",
    "plt.title(\"Histogram Cell Intensity Values\")\n",
    "plt.show()"
   ]
  },
  {
   "cell_type": "code",
   "execution_count": null,
   "id": "70788207-9dae-4c56-b716-3f8f2e8eef44",
   "metadata": {},
   "outputs": [],
   "source": [
    "newvalues = [x for x in values if x != 0]\n",
    "print(len(newvalues))"
   ]
  },
  {
   "cell_type": "code",
   "execution_count": null,
   "id": "76bbe5c9-768f-40a6-9fea-d559c236e810",
   "metadata": {},
   "outputs": [],
   "source": [
    "fig = plt.figure(figsize =(10, 7))\n",
    "plt.hist(newvalues, bins=50)\n",
    "plt.title(\"Histogram Cell Intensity Values\")\n",
    "plt.show()\n",
    "#Output labels:        {'0': 'background', '1': 'edema', '2': 'non-enhancing tumor', '3': 'enhancing tumour'}"
   ]
  },
  {
   "cell_type": "markdown",
   "id": "e8ad97e2-4bbd-495a-9531-e510065c6a7d",
   "metadata": {},
   "source": [
    "Should add a part to look through all scans in the dataset now that we understand one scan. Compare same distributions, check if all have a tumor, and verify image sizes or any other critical information."
   ]
  },
  {
   "cell_type": "code",
   "execution_count": null,
   "id": "b85e9635-04fc-4e31-9256-c0457417fba0",
   "metadata": {},
   "outputs": [],
   "source": [
    "def normalize(volume):\n",
    "    \"\"\"Normalize the volume\"\"\"\n",
    "    min = -1000\n",
    "    max = 400\n",
    "    volume[volume < min] = min\n",
    "    volume[volume > max] = max\n",
    "    volume = (volume - min) / (max - min)\n",
    "    volume = volume.astype(\"float32\")\n",
    "    return volume"
   ]
  },
  {
   "cell_type": "code",
   "execution_count": null,
   "id": "e164b1b7-a99d-4a29-bbd7-92624cb41002",
   "metadata": {},
   "outputs": [],
   "source": [
    "def resize_volume(img):\n",
    "    \"\"\"Resize across z-axis\"\"\"\n",
    "    # Set the desired depth\n",
    "    desired_depth = 64\n",
    "    desired_width = 128\n",
    "    desired_height = 128\n",
    "    # Get current depth\n",
    "    current_depth = img.shape[-1]\n",
    "    current_width = img.shape[0]\n",
    "    current_height = img.shape[1]\n",
    "    # Compute depth factor\n",
    "    depth = current_depth / desired_depth\n",
    "    width = current_width / desired_width\n",
    "    height = current_height / desired_height\n",
    "    depth_factor = 1 / depth\n",
    "    width_factor = 1 / width\n",
    "    height_factor = 1 / height\n",
    "    # Rotate\n",
    "    img = ndimage.rotate(img, 90, reshape=False)\n",
    "    # Resize across z-axis\n",
    "    img = ndimage.zoom(img, (width_factor, height_factor, depth_factor), order=1)\n",
    "    return img"
   ]
  },
  {
   "cell_type": "code",
   "execution_count": null,
   "id": "b0d7d356-0b62-4f43-af5d-0ffffce082b5",
   "metadata": {},
   "outputs": [],
   "source": [
    "def process_scan(path):\n",
    "    \"\"\"Read and resize volume\"\"\"\n",
    "    # Read scan\n",
    "    _, volume = read_nifti_file(path)\n",
    "    # Normalize\n",
    "    #volume = normalize(volume)\n",
    "    # Resize width, height and depth\n",
    "    #volume = resize_volume(volume)\n",
    "    return volume"
   ]
  },
  {
   "cell_type": "code",
   "execution_count": null,
   "id": "c99c9fde-ea1e-4fa0-9294-c535854eb24c",
   "metadata": {},
   "outputs": [],
   "source": [
    "def display_views(medical_image, channel=0):\n",
    "    channels = {'0': 'FLAIR', '1': 'T1w', '2': 't1gd', '3': 'T2w'}\n",
    "    \n",
    "    sagital_mid = int(medical_image.shape[0] / 2) # Axis 0\n",
    "    coronal_mid = int(medical_image.shape[1] / 2) # Axis 1\n",
    "    axial_mid = int(medical_image.shape[2] / 2) # Axis 2\n",
    "    \n",
    "    sagital_image = medical_image[sagital_mid, :, :, channel] # Axis 0\n",
    "    coronal_image = medical_image[:, coronal_mid, :, channel] # Axis 1\n",
    "    axial_image = medical_image[:, :, axial_mid, channel] # Axis 2\n",
    "\n",
    "    plt.figure(figsize=(20, 10))\n",
    "    \n",
    "    plt.subplot(1,3,1)\n",
    "    plt.imshow(np.rot90(sagital_image), cmap='gray')\n",
    "    plt.title('Sagital Plane')\n",
    "    plt.axis('off')\n",
    "\n",
    "    plt.subplot(1,3,2)\n",
    "    plt.imshow(np.rot90(axial_image), cmap='gray')\n",
    "    plt.title('Axial Plane')\n",
    "    plt.axis('off')\n",
    "\n",
    "    plt.subplot(1,3,3)\n",
    "    plt.imshow(np.rot90(coronal_image), cmap='gray')\n",
    "    plt.title('Coronal Plane')\n",
    "    plt.axis('off')\n",
    "    \n",
    "    channel_name = channels[str(channel)]\n",
    "    plt.suptitle(f'Modality: {channel_name}')\n",
    "    plt.show()"
   ]
  },
  {
   "cell_type": "code",
   "execution_count": null,
   "id": "fac4eb06-2d05-4934-8d5c-b7ddb22babf2",
   "metadata": {},
   "outputs": [],
   "source": [
    "def show_slice(scan_slice, level=None, window=None):\n",
    "    \"\"\"\n",
    "    Function to display an image slice\n",
    "    Input is a numpy 2D array\n",
    "    \"\"\"\n",
    "    if (level != None) & (window != None):\n",
    "        max = level + window/2\n",
    "        min = level - window/2\n",
    "        scan_slice = scan_slice.clip(min,max)\n",
    "    else:\n",
    "        scan_slice = scan_slice\n",
    "    plt.figure()\n",
    "    plt.imshow(scan_slice.T, cmap=\"gray\", origin=\"lower\")\n",
    "    plt.xlabel('First axis')\n",
    "    plt.ylabel('Second axis')\n",
    "    plt.colorbar(label='Signal intensity')\n",
    "    plt.show()\n",
    "    #plt.savefig('L'+str(level)+'W'+str(window))"
   ]
  },
  {
   "cell_type": "code",
   "execution_count": null,
   "id": "f070944a-d6f8-4080-825e-ec101d20719f",
   "metadata": {},
   "outputs": [],
   "source": [
    "def show_slice_color(scan_slice, level=None, window=None):\n",
    "    \"\"\"\n",
    "    Function to display an image slice\n",
    "    Input is a numpy 2D array\n",
    "    \"\"\"\n",
    "    if (level != None) & (window != None):\n",
    "        max = level + window/2\n",
    "        min = level - window/2\n",
    "        scan_slice = scan_slice.clip(min,max)\n",
    "    else:\n",
    "        scan_slice = scan_slice\n",
    "    plt.figure()\n",
    "    plt.imshow(scan_slice.T, origin=\"lower\")\n",
    "    plt.xlabel('First axis')\n",
    "    plt.ylabel('Second axis')\n",
    "    plt.colorbar(label='Signal intensity')\n",
    "    plt.show()\n",
    "    #plt.savefig('L'+str(level)+'W'+str(window))"
   ]
  },
  {
   "cell_type": "code",
   "execution_count": null,
   "id": "417c43ea-97a0-4e63-b5b9-3f5ef8a5a5a8",
   "metadata": {},
   "outputs": [],
   "source": [
    "mid_scan = int(scan_data.shape[2] / 2)\n",
    "scan_slice = scan_data[:,:,mid_scan,0]"
   ]
  },
  {
   "cell_type": "code",
   "execution_count": null,
   "id": "03e33c2a-8e93-4ac1-aee5-09babf42f735",
   "metadata": {},
   "outputs": [],
   "source": [
    "%matplotlib inline\n",
    "show_slice(scan_slice)"
   ]
  },
  {
   "cell_type": "code",
   "execution_count": null,
   "id": "a4e66f58-4738-4bc0-9b26-68b03f5d605b",
   "metadata": {},
   "outputs": [],
   "source": [
    "%matplotlib inline\n",
    "show_slice_color(scan_slice)"
   ]
  },
  {
   "cell_type": "code",
   "execution_count": null,
   "id": "b6bb5fad-59ff-4fd5-a488-e45085604460",
   "metadata": {},
   "outputs": [],
   "source": [
    "%matplotlib inline\n",
    "show_slice(scan_slice,700,1000)"
   ]
  },
  {
   "cell_type": "code",
   "execution_count": null,
   "id": "ecd8b10f-a676-4b61-b83e-6109c286eb14",
   "metadata": {},
   "outputs": [],
   "source": [
    "%matplotlib inline\n",
    "medical_scan = process_scan(FILE_PATH)\n",
    "\n",
    "for i in range(medical_scan.shape[3]):\n",
    "    display_views(medical_scan, i)"
   ]
  },
  {
   "cell_type": "markdown",
   "id": "be135bbf-7c53-4788-a1cb-4c5a33ffa980",
   "metadata": {},
   "source": [
    "### Axial Slices"
   ]
  },
  {
   "cell_type": "code",
   "execution_count": null,
   "id": "b489b9d2-5441-4340-9648-fadd601820c3",
   "metadata": {},
   "outputs": [],
   "source": [
    "def plot_axial_slices(scan, channel=0, center_slice=None, fig_width=12, num_rows=5, num_columns=5, img_width=None, img_height=None):\n",
    "    \"\"\"Plot a montage of Axial View CT slices\"\"\"\n",
    "    scan = scan[:, :, :, channel:channel+1]\n",
    "    \n",
    "    if center_slice == None:\n",
    "        center_slice = int(scan.shape[2] / 2)\n",
    "    first_slice = int(center_slice - np.floor((num_rows * num_columns) / 2))\n",
    "    if first_slice < 0:\n",
    "        first_slice = 0\n",
    "    last_slice = first_slice + (num_rows * num_columns)\n",
    "    \n",
    "    scan = scan[:, :, first_slice:last_slice]\n",
    "    \n",
    "    img_width = scan.shape[0]\n",
    "    img_height = scan.shape[1]\n",
    "    \n",
    "    \n",
    "    #scan = np.rot90(np.array(scan))\n",
    "    scan = np.transpose(scan)\n",
    "    scan = np.reshape(scan, (num_rows, num_columns, img_width, img_height))\n",
    "    rows_data, columns_data = scan.shape[0], scan.shape[1]\n",
    "    heights = [each_slice[0].shape[0] for each_slice in scan] # slice is a python function...\n",
    "    widths = [each_slice.shape[1] for each_slice in scan[0]]\n",
    "    fig_width = fig_width\n",
    "    fig_height = fig_width * sum(heights) / sum(widths)\n",
    "    f, axarr = plt.subplots(\n",
    "        rows_data,\n",
    "        columns_data,\n",
    "        figsize=(fig_width, fig_height),\n",
    "        gridspec_kw={\"height_ratios\": heights},\n",
    "    )\n",
    "    for i in range(rows_data):\n",
    "        for j in range(columns_data):\n",
    "            axarr[i, j].imshow(scan[i][j], cmap=\"gray\")\n",
    "            axarr[i, j].axis(\"off\")\n",
    "    plt.subplots_adjust(wspace=0, hspace=0, left=0, right=1, bottom=0, top=1)\n",
    "    plt.show()\n"
   ]
  },
  {
   "cell_type": "code",
   "execution_count": null,
   "id": "82dd3d3c-7656-412b-b7d9-67b3afcb21a2",
   "metadata": {},
   "outputs": [],
   "source": [
    "%matplotlib inline\n",
    "plot_axial_slices(medical_scan)"
   ]
  },
  {
   "cell_type": "code",
   "execution_count": null,
   "id": "b1bcbc89-6cdb-42cf-84d6-f08b29320fac",
   "metadata": {},
   "outputs": [],
   "source": [
    "from ipywidgets import AppLayout, IntSlider, Layout, HBox\n",
    "import ipywidgets as widgets\n",
    "\n",
    "\n",
    "def plot_interactive_axial_slices(scan, channel=0):\n",
    "    scan = scan[:, :, :, channel]\n",
    "    max_scan = scan.shape[2]\n",
    "    mid_scan = int(max_scan / 2)\n",
    "    \n",
    "    plt.ioff()\n",
    "    fig, ax = plt.subplots(1, 1, figsize=(8, 6))\n",
    "    plt.ion()\n",
    "    im = ax.imshow(np.rot90(scan[:, :, mid_scan]), cmap='gray')\n",
    "    \n",
    "    fig.canvas.header_visible = False\n",
    "    #fig.canvas.layout.min_height = '400px'\n",
    "    fig.canvas.toolbar_visible = False\n",
    "    plt.title('Axial View Slice n.')\n",
    "    \n",
    "    def update(change):\n",
    "        im.set_data(np.rot90(scan[:, :, change['new']]))\n",
    "        fig.canvas.draw_idle()\n",
    "\n",
    "    slider = widgets.IntSlider(orientation='vertical', \\\n",
    "        description='Slice #:', value=mid_scan, min=0, max=max_scan)\n",
    "\n",
    "    slider.layout.margin = '0px 0px 0px 0px'\n",
    "    #slider.layout.margin = '20% 0px 20% 0px'\n",
    "    slider.layout.height = '100%'\n",
    "    \n",
    "    slider.observe(update, names='value')\n",
    "    \n",
    "    viewer = HBox([slider, fig.canvas], layout=Layout(align_items='center'))\n",
    "\n",
    "    return viewer"
   ]
  },
  {
   "cell_type": "code",
   "execution_count": null,
   "id": "3af65dbb-f893-48cf-b0d3-f95fbcd2e098",
   "metadata": {},
   "outputs": [],
   "source": [
    "%matplotlib widget\n",
    "viewer = plot_interactive_axial_slices(medical_scan, 0)\n",
    "display(viewer)"
   ]
  },
  {
   "cell_type": "markdown",
   "id": "3a299a28-96a0-4189-ba1e-2357e240b97c",
   "metadata": {},
   "source": [
    "### Sagital Slices"
   ]
  },
  {
   "cell_type": "code",
   "execution_count": null,
   "id": "c43f7ad7-8821-4ad8-b511-e0d8a15af568",
   "metadata": {},
   "outputs": [],
   "source": [
    "def plot_sagital_slices(scan, channel=0, center_slice=None, fig_width=12, num_rows=5, num_columns=5, img_width=None, img_height=None):\n",
    "    \"\"\"Plot a montage of Sagital View CT slices\"\"\"\n",
    "    import matplotlib.pyplot as plt\n",
    "    scan = scan[:, :, :, channel:channel+1]\n",
    "    \n",
    "    if center_slice == None:\n",
    "        center_slice = int(scan.shape[0] / 2)\n",
    "    first_slice = int(center_slice - np.floor((num_rows * num_columns) / 2))\n",
    "    if first_slice < 0:\n",
    "        first_slice = 0\n",
    "    last_slice = first_slice + (num_rows * num_columns)\n",
    "    scan = scan[first_slice:last_slice, :, :]\n",
    "    \n",
    "    img_width = scan.shape[1]\n",
    "    img_height = scan.shape[2]\n",
    "    \n",
    "    scan = np.transpose(scan, axes=[3,0,1,2])\n",
    "    \n",
    "    scan = np.reshape(scan, (num_rows, num_columns, img_width, img_height))\n",
    "    rows_data, columns_data = scan.shape[0], scan.shape[1]\n",
    "    heights = [each_slice[0].shape[1] for each_slice in scan] # slice is a python function...\n",
    "    widths = [each_slice.shape[0] for each_slice in scan[0]]\n",
    "    fig_width = fig_width\n",
    "    fig_height = fig_width * sum(heights) / sum(widths)\n",
    "    f, axarr = plt.subplots(\n",
    "        rows_data,\n",
    "        columns_data,\n",
    "        figsize=(fig_width, fig_height),\n",
    "        gridspec_kw={\"height_ratios\": heights},\n",
    "    )\n",
    "    for i in range(rows_data):\n",
    "        for j in range(columns_data):\n",
    "            axarr[i, j].imshow(np.rot90(scan[i][j]), cmap=\"gray\")\n",
    "            axarr[i, j].axis(\"off\")\n",
    "    plt.subplots_adjust(wspace=0, hspace=0, left=0, right=1, bottom=0, top=1)\n",
    "    plt.show()\n"
   ]
  },
  {
   "cell_type": "code",
   "execution_count": null,
   "id": "42cb46c2-cf4b-4170-b684-c0358abbfdb4",
   "metadata": {},
   "outputs": [],
   "source": [
    "%matplotlib inline\n",
    "plot_sagital_slices(medical_scan)"
   ]
  },
  {
   "cell_type": "code",
   "execution_count": null,
   "id": "6806cfce-8f20-4d6b-9d4d-262cf651f75d",
   "metadata": {},
   "outputs": [],
   "source": [
    "from ipywidgets import AppLayout, IntSlider, Layout, VBox\n",
    "import ipywidgets as widgets\n",
    "\n",
    "def plot_interactive_sagital_slices(scan, channel=0):\n",
    "    scan = scan[:, :, :, channel]\n",
    "    max_scan = scan.shape[0]\n",
    "    mid_scan = int(max_scan / 2)\n",
    "    \n",
    "    plt.ioff()\n",
    "    fig, ax = plt.subplots(1, 1, figsize=(8, 6))\n",
    "    plt.ion()\n",
    "    im = ax.imshow(np.rot90(scan[mid_scan, :, :]), cmap='gray')\n",
    "    #plt.xlabel('First axis')\n",
    "    #plt.ylabel('Second axis')\n",
    "    #plt.colorbar(label='Signal intensity')\n",
    "    \n",
    "    fig.canvas.header_visible = False\n",
    "    #fig.canvas.layout.min_height = '400px'\n",
    "    fig.canvas.toolbar_visible = False\n",
    "    plt.title('Sagital View Slice n.')\n",
    "    \n",
    "    def update(change):\n",
    "        im.set_data(np.rot90(scan[change['new'], :, :]))\n",
    "        fig.canvas.draw_idle()\n",
    "  \n",
    "    slider = widgets.IntSlider(orientation='horizontal', \\\n",
    "        description='Slice #:', value=mid_scan, min=0, max=max_scan)\n",
    "\n",
    "    slider.layout.margin = '0px 0px 0px 0px'\n",
    "    #slider.layout.margin = '20% 0px 20% 0px'\n",
    "    slider.layout.width = '60%'\n",
    "    \n",
    "    slider.observe(update, names='value')\n",
    "    \n",
    "    viewer = VBox([fig.canvas,slider], layout=Layout(align_items='center'))\n",
    "    \n",
    "    return viewer"
   ]
  },
  {
   "cell_type": "code",
   "execution_count": null,
   "id": "b89d0a82-3dc1-4fc2-87b2-a7f9f0b4d67f",
   "metadata": {},
   "outputs": [],
   "source": [
    "%matplotlib widget\n",
    "plot_interactive_sagital_slices(medical_scan, 0)"
   ]
  },
  {
   "cell_type": "markdown",
   "id": "bec15471-c1ce-4f11-b9a9-0eaa62156c0a",
   "metadata": {},
   "source": [
    "### Coronal Slices"
   ]
  },
  {
   "cell_type": "code",
   "execution_count": null,
   "id": "221733e8-c56e-4615-9861-d16b4ccee510",
   "metadata": {},
   "outputs": [],
   "source": [
    "def plot_coronal_slices(scan, channel=0, center_slice=None, fig_width=12, num_rows=5, num_columns=5, img_width=None, img_height=None):\n",
    "    \"\"\"Plot a montage of Sagital View CT slices\"\"\"\n",
    "    scan = scan[:, :, :, channel:channel+1]\n",
    "    \n",
    "    if center_slice == None:\n",
    "        center_slice = int(scan.shape[1] / 2)\n",
    "    first_slice = int(center_slice - np.floor((num_rows * num_columns) / 2))\n",
    "    if first_slice < 0:\n",
    "        first_slice = 0\n",
    "    last_slice = first_slice + (num_rows * num_columns)\n",
    "    scan = scan[:, first_slice:last_slice, :]\n",
    "    \n",
    "    img_width = scan.shape[0]\n",
    "    img_height = scan.shape[2]\n",
    "    \n",
    "    scan = np.transpose(scan, axes=[3,1,0,2])\n",
    "    \n",
    "    scan = np.reshape(scan, (num_rows, num_columns, img_width, img_height))\n",
    "    rows_data, columns_data = scan.shape[0], scan.shape[1]\n",
    "    heights = [each_slice[0].shape[1] for each_slice in scan] # slice is a python function...\n",
    "    widths = [each_slice.shape[0] for each_slice in scan[0]]\n",
    "    fig_width = fig_width\n",
    "    fig_height = fig_width * sum(heights) / sum(widths)\n",
    "    f, axarr = plt.subplots(\n",
    "        rows_data,\n",
    "        columns_data,\n",
    "        figsize=(fig_width, fig_height),\n",
    "        gridspec_kw={\"height_ratios\": heights},\n",
    "    )\n",
    "    for i in range(rows_data):\n",
    "        for j in range(columns_data):\n",
    "            axarr[i, j].imshow(np.rot90(scan[i][j]), cmap=\"gray\")\n",
    "            axarr[i, j].axis(\"off\")\n",
    "    plt.subplots_adjust(wspace=0, hspace=0, left=0, right=1, bottom=0, top=1)\n",
    "    plt.show()\n"
   ]
  },
  {
   "cell_type": "code",
   "execution_count": null,
   "id": "c26d3d41-1135-4bcd-b165-843822543f9a",
   "metadata": {},
   "outputs": [],
   "source": [
    "%matplotlib inline\n",
    "plot_coronal_slices(medical_scan, num_rows=5, num_columns=5)"
   ]
  },
  {
   "cell_type": "code",
   "execution_count": null,
   "id": "b08b4f38-d1ff-48d1-b8a2-694709885ba3",
   "metadata": {},
   "outputs": [],
   "source": [
    "from ipywidgets import AppLayout, IntSlider, Layout, VBox\n",
    "import ipywidgets as widgets\n",
    "\n",
    "\n",
    "def plot_interactive_coronal_slices(scan, channel=0):\n",
    "    scan = scan[:, :, :, channel]\n",
    "    max_scan = scan.shape[1]\n",
    "    mid_scan = int(max_scan / 2)\n",
    "    \n",
    "    plt.ioff()\n",
    "    fig, ax = plt.subplots(1, 1, figsize=(8, 6))\n",
    "    plt.ion()\n",
    "    im = ax.imshow(np.rot90(scan[:, mid_scan, :]), cmap='gray')\n",
    "    #plt.xlabel('First axis')\n",
    "    #plt.ylabel('Second axis')\n",
    "    #plt.colorbar(label='Signal intensity')\n",
    "    \n",
    "    fig.canvas.header_visible = False\n",
    "    #fig.canvas.layout.min_height = '400px'\n",
    "    fig.canvas.toolbar_visible = False\n",
    "    plt.title('Coronal View Slice n.')\n",
    "    \n",
    "    def update(change):\n",
    "        im.set_data(np.rot90(scan[:, change['new'], :]))\n",
    "        fig.canvas.draw_idle()\n",
    "\n",
    "    slider = widgets.IntSlider(orientation='horizontal', \\\n",
    "        description='Slice #:', value=mid_scan, min=0, max=max_scan)\n",
    "\n",
    "    slider.layout.margin = '0px 0px 0px 0px'\n",
    "    #slider.layout.margin = '20% 0px 20% 0px'\n",
    "    slider.layout.width = '60%'\n",
    "    \n",
    "    slider.observe(update, names='value')\n",
    "    \n",
    "    viewer = VBox([fig.canvas,slider], layout=Layout(align_items='center'))\n",
    "    \n",
    "    return viewer"
   ]
  },
  {
   "cell_type": "code",
   "execution_count": null,
   "id": "38c09393-a0ca-45c1-a875-bdd5a2813976",
   "metadata": {},
   "outputs": [],
   "source": [
    "%matplotlib widget\n",
    "plot_interactive_coronal_slices(medical_scan, 0)"
   ]
  },
  {
   "cell_type": "markdown",
   "id": "f3af005a-f55e-4f0c-a059-8bbcce610ddb",
   "metadata": {},
   "source": [
    "https://ipyvolume.readthedocs.io/en/latest/"
   ]
  },
  {
   "cell_type": "code",
   "execution_count": null,
   "id": "546cedf1-7d36-448f-ad99-eaf5aadaf58c",
   "metadata": {},
   "outputs": [],
   "source": [
    "medical_image = nib.load(file_path)\n",
    "print(medical_image.header)"
   ]
  },
  {
   "cell_type": "code",
   "execution_count": null,
   "id": "2a19a456-c6b9-4db8-b33c-f8b6bf594c7f",
   "metadata": {},
   "outputs": [],
   "source": [
    "def find_pix_dim(medical_image):\n",
    "    \"\"\"\n",
    "    Get the pixdim of the CT image.\n",
    "    A general solution that gets the pixdim indicated from the image dimensions. From the last 2 image dimensions, we get their pixel dimension.\n",
    "    Args:\n",
    "        ct_img: nib image\n",
    "\n",
    "    Returns: List of the 2 pixel dimensions\n",
    "    \"\"\"\n",
    "    pix_dim = medical_image.header[\"pixdim\"] # example [1,2,1.5,1,1]\n",
    "    dim = medical_image.header[\"dim\"] # example [1,512,512,1,1]\n",
    "    max_indx = np.argmax(dim)\n",
    "    pixdimX = pix_dim[max_indx]\n",
    "    dim = np.delete(dim, max_indx)\n",
    "    pix_dim = np.delete(pix_dim, max_indx)\n",
    "    max_indy = np.argmax(dim)\n",
    "    pixdimY = pix_dim[max_indy]\n",
    "    return [pixdimX, pixdimY] # example [2, 1.5]"
   ]
  },
  {
   "cell_type": "code",
   "execution_count": null,
   "id": "8e495e20-df4d-4746-be05-b2b2d824565f",
   "metadata": {},
   "outputs": [],
   "source": [
    "find_pix_dim(medical_image)"
   ]
  }
 ],
 "metadata": {
  "kernelspec": {
   "display_name": "Python 3 (ipykernel)",
   "language": "python",
   "name": "python3"
  },
  "language_info": {
   "codemirror_mode": {
    "name": "ipython",
    "version": 3
   },
   "file_extension": ".py",
   "mimetype": "text/x-python",
   "name": "python",
   "nbconvert_exporter": "python",
   "pygments_lexer": "ipython3",
   "version": "3.7.13"
  }
 },
 "nbformat": 4,
 "nbformat_minor": 5
}
